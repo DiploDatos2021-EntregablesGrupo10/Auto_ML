{
  "nbformat": 4,
  "nbformat_minor": 0,
  "metadata": {
    "kernelspec": {
      "display_name": "Python 3",
      "language": "python",
      "name": "python3"
    },
    "language_info": {
      "codemirror_mode": {
        "name": "ipython",
        "version": 3
      },
      "file_extension": ".py",
      "mimetype": "text/x-python",
      "name": "python",
      "nbconvert_exporter": "python",
      "pygments_lexer": "ipython3",
      "version": "3.8.10"
    },
    "colab": {
      "name": "Trabajo_Práctico_AutoML.ipynb",
      "provenance": [],
      "collapsed_sections": [],
      "toc_visible": true
    }
  },
  "cells": [
    {
      "cell_type": "markdown",
      "metadata": {
        "id": "EQCM46nTFdyI"
      },
      "source": [
        "# Trabajo Práctico Auto ML"
      ]
    },
    {
      "cell_type": "code",
      "metadata": {
        "colab": {
          "base_uri": "https://localhost:8080/"
        },
        "id": "7rYIdUN3WygJ",
        "outputId": "4322fadd-346e-41f9-e735-52c322469c90"
      },
      "source": [
        "!pip install auto-sklearn"
      ],
      "execution_count": 18,
      "outputs": [
        {
          "output_type": "stream",
          "name": "stdout",
          "text": [
            "Requirement already satisfied: auto-sklearn in /usr/local/lib/python3.7/dist-packages (0.14.2)\n",
            "Requirement already satisfied: scipy>=1.7.0 in /usr/local/lib/python3.7/dist-packages (from auto-sklearn) (1.7.3)\n",
            "Requirement already satisfied: setuptools in /usr/local/lib/python3.7/dist-packages (from auto-sklearn) (57.4.0)\n",
            "Requirement already satisfied: numpy>=1.9.0 in /usr/local/lib/python3.7/dist-packages (from auto-sklearn) (1.19.5)\n",
            "Requirement already satisfied: dask<2021.07 in /usr/local/lib/python3.7/dist-packages (from auto-sklearn) (2021.6.2)\n",
            "Requirement already satisfied: threadpoolctl in /usr/local/lib/python3.7/dist-packages (from auto-sklearn) (3.0.0)\n",
            "Requirement already satisfied: scikit-learn<0.25.0,>=0.24.0 in /usr/local/lib/python3.7/dist-packages (from auto-sklearn) (0.24.2)\n",
            "Requirement already satisfied: joblib in /usr/local/lib/python3.7/dist-packages (from auto-sklearn) (1.1.0)\n",
            "Requirement already satisfied: pyyaml in /usr/local/lib/python3.7/dist-packages (from auto-sklearn) (3.13)\n",
            "Requirement already satisfied: ConfigSpace<0.5,>=0.4.14 in /usr/local/lib/python3.7/dist-packages (from auto-sklearn) (0.4.20)\n",
            "Requirement already satisfied: smac>=0.14 in /usr/local/lib/python3.7/dist-packages (from auto-sklearn) (1.1.1)\n",
            "Requirement already satisfied: distributed<2021.07,>=2.2.0 in /usr/local/lib/python3.7/dist-packages (from auto-sklearn) (2021.6.2)\n",
            "Requirement already satisfied: pyrfr<0.9,>=0.8.1 in /usr/local/lib/python3.7/dist-packages (from auto-sklearn) (0.8.2)\n",
            "Requirement already satisfied: liac-arff in /usr/local/lib/python3.7/dist-packages (from auto-sklearn) (2.5.0)\n",
            "Requirement already satisfied: typing-extensions in /usr/local/lib/python3.7/dist-packages (from auto-sklearn) (3.10.0.2)\n",
            "Requirement already satisfied: pynisher>=0.6.3 in /usr/local/lib/python3.7/dist-packages (from auto-sklearn) (0.6.4)\n",
            "Requirement already satisfied: pandas>=1.0 in /usr/local/lib/python3.7/dist-packages (from auto-sklearn) (1.1.5)\n",
            "Requirement already satisfied: pyparsing in /usr/local/lib/python3.7/dist-packages (from ConfigSpace<0.5,>=0.4.14->auto-sklearn) (3.0.6)\n",
            "Requirement already satisfied: cython in /usr/local/lib/python3.7/dist-packages (from ConfigSpace<0.5,>=0.4.14->auto-sklearn) (0.29.24)\n",
            "Requirement already satisfied: partd>=0.3.10 in /usr/local/lib/python3.7/dist-packages (from dask<2021.07->auto-sklearn) (1.2.0)\n",
            "Requirement already satisfied: toolz>=0.8.2 in /usr/local/lib/python3.7/dist-packages (from dask<2021.07->auto-sklearn) (0.11.2)\n",
            "Requirement already satisfied: cloudpickle>=1.1.1 in /usr/local/lib/python3.7/dist-packages (from dask<2021.07->auto-sklearn) (2.0.0)\n",
            "Requirement already satisfied: fsspec>=0.6.0 in /usr/local/lib/python3.7/dist-packages (from dask<2021.07->auto-sklearn) (2021.11.1)\n",
            "Requirement already satisfied: psutil>=5.0 in /usr/local/lib/python3.7/dist-packages (from distributed<2021.07,>=2.2.0->auto-sklearn) (5.4.8)\n",
            "Requirement already satisfied: tblib>=1.6.0 in /usr/local/lib/python3.7/dist-packages (from distributed<2021.07,>=2.2.0->auto-sklearn) (1.7.0)\n",
            "Requirement already satisfied: tornado>=5 in /usr/local/lib/python3.7/dist-packages (from distributed<2021.07,>=2.2.0->auto-sklearn) (5.1.1)\n",
            "Requirement already satisfied: sortedcontainers!=2.0.0,!=2.0.1 in /usr/local/lib/python3.7/dist-packages (from distributed<2021.07,>=2.2.0->auto-sklearn) (2.4.0)\n",
            "Requirement already satisfied: click>=6.6 in /usr/local/lib/python3.7/dist-packages (from distributed<2021.07,>=2.2.0->auto-sklearn) (7.1.2)\n",
            "Requirement already satisfied: zict>=0.1.3 in /usr/local/lib/python3.7/dist-packages (from distributed<2021.07,>=2.2.0->auto-sklearn) (2.0.0)\n",
            "Requirement already satisfied: msgpack>=0.6.0 in /usr/local/lib/python3.7/dist-packages (from distributed<2021.07,>=2.2.0->auto-sklearn) (1.0.3)\n",
            "Requirement already satisfied: pytz>=2017.2 in /usr/local/lib/python3.7/dist-packages (from pandas>=1.0->auto-sklearn) (2018.9)\n",
            "Requirement already satisfied: python-dateutil>=2.7.3 in /usr/local/lib/python3.7/dist-packages (from pandas>=1.0->auto-sklearn) (2.8.2)\n",
            "Requirement already satisfied: locket in /usr/local/lib/python3.7/dist-packages (from partd>=0.3.10->dask<2021.07->auto-sklearn) (0.2.1)\n",
            "Requirement already satisfied: six>=1.5 in /usr/local/lib/python3.7/dist-packages (from python-dateutil>=2.7.3->pandas>=1.0->auto-sklearn) (1.15.0)\n",
            "Requirement already satisfied: emcee>=3.0.0 in /usr/local/lib/python3.7/dist-packages (from smac>=0.14->auto-sklearn) (3.1.1)\n",
            "Requirement already satisfied: heapdict in /usr/local/lib/python3.7/dist-packages (from zict>=0.1.3->distributed<2021.07,>=2.2.0->auto-sklearn) (1.0.1)\n"
          ]
        }
      ]
    },
    {
      "cell_type": "code",
      "metadata": {
        "id": "m1QquRX6FdyL"
      },
      "source": [
        "import numpy as np\n",
        "import pandas as pd\n",
        "import seaborn as sn\n",
        "from matplotlib import pyplot as plt\n",
        "import autosklearn.classification\n",
        "import sklearn.model_selection\n",
        "import sklearn.datasets\n",
        "import sklearn.metrics\n",
        "\n",
        "from sklearn.model_selection import train_test_split\n",
        "from sklearn.metrics import classification_report\n",
        "from sklearn.linear_model import SGDClassifier\n",
        "from sklearn.preprocessing import RobustScaler\n",
        "from sklearn.metrics import confusion_matrix\n",
        "from sklearn.model_selection import ParameterGrid\n",
        "from sklearn.model_selection import GridSearchCV\n",
        "from sklearn.metrics import accuracy_score\n",
        "from sklearn.metrics import recall_score\n",
        "from sklearn.metrics import explained_variance_score\n",
        "from sklearn.tree import DecisionTreeClassifier"
      ],
      "execution_count": 19,
      "outputs": []
    },
    {
      "cell_type": "code",
      "metadata": {
        "colab": {
          "base_uri": "https://localhost:8080/"
        },
        "id": "Xia-hZX8UaAF",
        "outputId": "0cf95cc3-6196-48a7-e0b1-9ea7d54e6330"
      },
      "source": [
        "from google.colab import drive\n",
        "drive.mount('/content/drive')"
      ],
      "execution_count": 20,
      "outputs": [
        {
          "output_type": "stream",
          "name": "stdout",
          "text": [
            "Drive already mounted at /content/drive; to attempt to forcibly remount, call drive.mount(\"/content/drive\", force_remount=True).\n"
          ]
        }
      ]
    },
    {
      "cell_type": "markdown",
      "metadata": {
        "id": "PCWpMoGNFdyM"
      },
      "source": [
        "## Carga de datos y división en entrenamiento y evaluación\n",
        "\n",
        "La celda siguiente se encarga de la carga de datos (haciendo uso de pandas). Estos serán los que se trabajarán en el resto del laboratorio."
      ]
    },
    {
      "cell_type": "code",
      "metadata": {
        "id": "nv2ha4LNFdyN"
      },
      "source": [
        "dataset = pd.read_csv(\"/content/drive/MyDrive/AutoML/loan_data.csv\", comment=\"#\")\n",
        "\n",
        "# División entre instancias y etiquetas\n",
        "X, y = dataset.iloc[:, 1:], dataset.TARGET\n",
        "\n",
        "# división entre entrenamiento y evaluación\n",
        "X_train, X_test, y_train, y_test = train_test_split(X, y, test_size=0.2, random_state=0)"
      ],
      "execution_count": 21,
      "outputs": []
    },
    {
      "cell_type": "code",
      "metadata": {
        "colab": {
          "base_uri": "https://localhost:8080/"
        },
        "id": "kWtHC4v2ay53",
        "outputId": "615f11d3-ef71-4afd-f23f-d81e375f6e54"
      },
      "source": [
        "dataset.shape"
      ],
      "execution_count": 22,
      "outputs": [
        {
          "output_type": "execute_result",
          "data": {
            "text/plain": [
              "(1854, 11)"
            ]
          },
          "metadata": {},
          "execution_count": 22
        }
      ]
    },
    {
      "cell_type": "code",
      "metadata": {
        "id": "-lLPELWwKGan"
      },
      "source": [
        "#Normalización de datos\n",
        "scaler = RobustScaler().fit(X_test)\n",
        "X_test = scaler.transform(X_test)\n",
        "X_train = scaler.transform(X_train)"
      ],
      "execution_count": 23,
      "outputs": []
    },
    {
      "cell_type": "markdown",
      "metadata": {
        "id": "7JATUfyiFdyN"
      },
      "source": [
        "## Descripción de los Datos\n",
        "\n",
        "\n"
      ]
    },
    {
      "cell_type": "markdown",
      "metadata": {
        "id": "uUQNtIIkfGZv"
      },
      "source": [
        "1. El conjunto de datos contiene informacion de referencia y de rendimiento de prestamos hipotecarios para 1854 casos. \n",
        "\n",
        "2. El TARGET es una variable binaria que indica si un solicitante finalmente incumplió con el pago o no. Los atributos son 11. \n",
        "\n",
        "3. Los atributos disponibles son los siguientes: \n",
        "\n",
        "- TARGET: 1 = cliente incumplió con el pago - 0 = préstamo reembolsado\n",
        "- LOAN: Monto de la solicitud de préstamo\n",
        "- MORTDUE: Monto adeudado de la hipoteca existente\n",
        "- VALUE: Valor de la propiedad actual\n",
        "- YOJ: Años en el trabajo actual\n",
        "- DEROG: Número de informes despectivos importantes\n",
        "- DELINQ: Número de líneas de crédito morosas\n",
        "- CLAGE: Antigüedad de la línea comercial más antigua (en meses)\n",
        "- NINQ: Número de líneas de crédito recientes\n",
        "- CLNO: Número de líneas de crédito\n",
        "- DEBTINC: Relación deuda-ingresos\n",
        "\n",
        "4. Los atributos que creemos son más determinantes para la predicción son los siguientes: \n",
        "\n",
        "- LOAN\n",
        "- YOJ\n",
        "- DEROG \n",
        "- DELINQ\n",
        "- NINQ\n",
        "- DEBTINC"
      ]
    },
    {
      "cell_type": "markdown",
      "metadata": {
        "id": "70JJ5ozcFdyO"
      },
      "source": [
        "## Predicción con Modelos Lineales"
      ]
    },
    {
      "cell_type": "markdown",
      "metadata": {
        "id": "wBHbQk6lFdyP"
      },
      "source": [
        "### SGDClassifier con hiperparámetros por defecto\n",
        "\n",
        "Se entrenar y evalua el clasificador SGDClassifier usando los valores por omisión de scikit-learn para todos los parámetros. \n",
        "\n",
        "Se evalua sobre el conjunto de **entrenamiento** y sobre el conjunto de **evaluación**, y se reporta:\n",
        "- Accuracy\n",
        "- Precision\n",
        "- Recall\n",
        "- F1\n",
        "- matriz de confusión"
      ]
    },
    {
      "cell_type": "code",
      "metadata": {
        "colab": {
          "base_uri": "https://localhost:8080/"
        },
        "id": "ZqvURYEWWaTa",
        "outputId": "1aefaa45-639a-4b1e-9f96-45ca4c79ed49"
      },
      "source": [
        "#SGD : descenso del gradiente estocastico , #el valor 0 para random... implica que a partir de ese entero\n",
        "# se determina la nueva semilla aleatoria. \n",
        "model = SGDClassifier(random_state=0) \n",
        "\n",
        "#Entrenamos el modelo con los datos del conjunto de training\n",
        "model.fit(X_train, y_train) "
      ],
      "execution_count": 24,
      "outputs": [
        {
          "output_type": "execute_result",
          "data": {
            "text/plain": [
              "SGDClassifier(random_state=0)"
            ]
          },
          "metadata": {},
          "execution_count": 24
        }
      ]
    },
    {
      "cell_type": "code",
      "metadata": {
        "id": "V1DlQp8oZLVq"
      },
      "source": [
        "#Hacemos predicciones sobre el conjunto de training y de test haciendo uso del modelo entrenado. \n",
        "y_predict_test = model.predict(X_test)\n",
        "y_predict_train = model.predict(X_train)"
      ],
      "execution_count": 25,
      "outputs": []
    },
    {
      "cell_type": "code",
      "metadata": {
        "colab": {
          "base_uri": "https://localhost:8080/"
        },
        "id": "eio-rxTmY-Ol",
        "outputId": "3b3cf1d4-c608-4f21-defa-1d564fc9d5b3"
      },
      "source": [
        "names = ['Cliente Pagador', 'Cliente Deudor']\n",
        "\n",
        "print('Reporte de clasificacion del conjunto de test: ')\n",
        "print('')\n",
        "print(classification_report(y_test, y_predict_test, target_names=names))\n",
        "print('Reporte de clasificacion del conjunto de training: ')\n",
        "print('')\n",
        "print(classification_report(y_train, y_predict_train, target_names=names))"
      ],
      "execution_count": 26,
      "outputs": [
        {
          "output_type": "stream",
          "name": "stdout",
          "text": [
            "Reporte de clasificacion del conjunto de test: \n",
            "\n",
            "                 precision    recall  f1-score   support\n",
            "\n",
            "Cliente Pagador       0.86      1.00      0.93       313\n",
            " Cliente Deudor       0.90      0.16      0.26        58\n",
            "\n",
            "       accuracy                           0.87       371\n",
            "      macro avg       0.88      0.58      0.60       371\n",
            "   weighted avg       0.87      0.87      0.82       371\n",
            "\n",
            "Reporte de clasificacion del conjunto de training: \n",
            "\n",
            "                 precision    recall  f1-score   support\n",
            "\n",
            "Cliente Pagador       0.86      0.99      0.92      1232\n",
            " Cliente Deudor       0.76      0.23      0.35       251\n",
            "\n",
            "       accuracy                           0.86      1483\n",
            "      macro avg       0.81      0.61      0.64      1483\n",
            "   weighted avg       0.85      0.86      0.82      1483\n",
            "\n"
          ]
        }
      ]
    },
    {
      "cell_type": "markdown",
      "metadata": {
        "id": "ZIIzYYaHi__L"
      },
      "source": [
        "De las metricas observamos que de los 371 casos del conjunto de test, 313 son clientes pagadores y solo 58, deudores. Ahora bien, para la clase \"Cliente Pagador\" el modelo tiene una precision de 0.86. Esto signifca que el 86% de los clientes que supusimos pagadores realmente lo son. Además el modelo tiene una recall de 1, esto significa que identificamos el 100% de los pagadores. Luego, el valor de F1 es 0.93. \n",
        "En cuanto a la clase \"Cliente Deudor\", vemos que el modelo tiene una precision del 90%, esto significa que de los clientes que identificamos como deudores, el 90% lo era efectivamente. Ademas se identificaron el 16% de los deudores. Finalmente, F1 es 0.26. \n",
        "El modelo mide una accuracy del 87%. Sin embargo, esta metrica es engañosa si las clases están desbalanceadas, como en este caso donde tenemos solo 58 clientes deudores vs. 313 clientes pagadores. \n"
      ]
    },
    {
      "cell_type": "code",
      "metadata": {
        "colab": {
          "base_uri": "https://localhost:8080/",
          "height": 335
        },
        "id": "lsRUkFVLa6e_",
        "outputId": "4b2621ff-69d9-426a-bc1d-196b9d483cc2"
      },
      "source": [
        "print(confusion_matrix(y_test, y_predict_test))\n",
        "sn.heatmap(confusion_matrix(y_test, y_predict_test),annot=True)\n",
        "plt.title('Matriz de Confusion de Clasificador SGD por defecto',fontsize=15)"
      ],
      "execution_count": 27,
      "outputs": [
        {
          "output_type": "stream",
          "name": "stdout",
          "text": [
            "[[312   1]\n",
            " [ 49   9]]\n"
          ]
        },
        {
          "output_type": "execute_result",
          "data": {
            "text/plain": [
              "Text(0.5, 1.0, 'Matriz de Confusion de Clasificador SGD por defecto')"
            ]
          },
          "metadata": {},
          "execution_count": 27
        },
        {
          "output_type": "display_data",
          "data": {
            "image/png": "[encoded data removed]",
            "text/plain": [
              "<Figure size 432x288 with 2 Axes>"
            ]
          },
          "metadata": {
            "needs_background": "light"
          }
        }
      ]
    },
    {
      "cell_type": "markdown",
      "metadata": {
        "id": "XnuQCa0zyYp0"
      },
      "source": [
        "De la matriz de confusion podemos ver que tenemos 312 TN (true negatives) y solo 9 TP (true positives). Es decir, identificamos 312 de los 313 pagadores pero solo 9 de los 58 deudores. Los FP son 1, un pagador que asumimos como deudor y los FN son 49, 49 clientes que asumimos como pagadores y resultaron deudores. Modelos mas optimos esperan mayores valores en la diagonal y valores pequeños a los lados. "
      ]
    },
    {
      "cell_type": "markdown",
      "metadata": {
        "id": "hE3NMm3JFdyQ"
      },
      "source": [
        "### SGDClassifier con ajuste de Hiperparámetros\n",
        "\n",
        "Seleccionamos los valores para los hiperparámetros principales del SGDClassifier. \n",
        "Usamos grid-search y 5-fold cross-validation sobre el conjunto de entrenamiento para explorar muchas combinaciones posibles de valores.\n",
        "Reportamos accuracy promedio y varianza para todas las configuraciones.\n",
        "\n",
        "Para la mejor configuración encontrada, evaluamos sobre el conjunto de **entrenamiento** y sobre el conjunto de **evaluación**, reportando:\n",
        "- Accuracy\n",
        "- Precision\n",
        "- Recall\n",
        "- F1\n",
        "- matriz de confusión"
      ]
    },
    {
      "cell_type": "markdown",
      "metadata": {
        "id": "QZDpj1a4Yhoo"
      },
      "source": [
        "Deseamos mejorar nuestro modelo. Para ello: comenzamos probando y listando las distintas combinaciones posibles (\"a  mano\") empleando \n",
        "ParameterGrid. "
      ]
    },
    {
      "cell_type": "code",
      "metadata": {
        "colab": {
          "base_uri": "https://localhost:8080/"
        },
        "id": "l5jiPNFDb8xJ",
        "outputId": "4adae907-e25e-4ea9-e929-8e0df4cb928c"
      },
      "source": [
        "param_grid = {\n",
        "    'loss': ['hinge', 'log', 'squared_epsilon_insensitive','squared_loss','modified_huber','perceptron'],\n",
        "    'learning_rate': ['optimal'],\n",
        "    'alpha': [0.1, 0.01, 0.001, 0.0001]\n",
        "}\n",
        "prev_accuracy_score = 0\n",
        "for params in ParameterGrid(param_grid):\n",
        "    model = SGDClassifier(**params, random_state=0)\n",
        "    model.fit(X_train, y_train)\n",
        "    y_predict_test = model.predict(X_test)\n",
        "    accuracy = accuracy_score(y_test, y_predict_test, normalize=True)\n",
        "    variance = explained_variance_score(y_test, y_predict_test, multioutput='uniform_average')\n",
        "    print()\n",
        "    print('Classification Report: ')\n",
        "    print(classification_report(y_test, y_predict_test))\n",
        "    print('Params: ',params)\n",
        "    print('Accuracy: ', accuracy,' Variance: ', variance)\n",
        "    print()\n",
        "    if accuracy > prev_accuracy_score:\n",
        "      best_model = model\n",
        "      prev_accuracy_score = accuracy\n",
        "      best_params = params\n",
        "      best_variance = variance\n",
        "print('')\n",
        "print('')\n",
        "print('El mejor modelo es: ', best_model, 'Con una accuracy de: ', prev_accuracy_score, 'Sus parámetros son: ', best_params, 'Y su varianza es: ', best_variance)"
      ],
      "execution_count": 28,
      "outputs": [
        {
          "output_type": "stream",
          "name": "stdout",
          "text": [
            "\n",
            "Classification Report: \n",
            "              precision    recall  f1-score   support\n",
            "\n",
            "           0       0.87      1.00      0.93       313\n",
            "           1       1.00      0.17      0.29        58\n",
            "\n",
            "    accuracy                           0.87       371\n",
            "   macro avg       0.93      0.59      0.61       371\n",
            "weighted avg       0.89      0.87      0.83       371\n",
            "\n",
            "Params:  {'alpha': 0.1, 'learning_rate': 'optimal', 'loss': 'hinge'}\n",
            "Accuracy:  0.8706199460916442  Variance:  0.14597333920898958\n",
            "\n",
            "\n",
            "Classification Report: \n",
            "              precision    recall  f1-score   support\n",
            "\n",
            "           0       0.87      1.00      0.93       313\n",
            "           1       1.00      0.19      0.32        58\n",
            "\n",
            "    accuracy                           0.87       371\n",
            "   macro avg       0.93      0.59      0.62       371\n",
            "weighted avg       0.89      0.87      0.83       371\n",
            "\n",
            "Params:  {'alpha': 0.1, 'learning_rate': 'optimal', 'loss': 'log'}\n",
            "Accuracy:  0.8733153638814016  Variance:  0.16117660019830327\n",
            "\n",
            "\n",
            "Classification Report: \n",
            "              precision    recall  f1-score   support\n",
            "\n",
            "           0       0.87      1.00      0.93       313\n",
            "           1       0.93      0.22      0.36        58\n",
            "\n",
            "    accuracy                           0.88       371\n",
            "   macro avg       0.90      0.61      0.65       371\n",
            "weighted avg       0.88      0.88      0.84       371\n",
            "\n",
            "Params:  {'alpha': 0.1, 'learning_rate': 'optimal', 'loss': 'squared_epsilon_insensitive'}\n",
            "Accuracy:  0.876010781671159  Variance:  0.16657485953508833\n",
            "\n",
            "\n",
            "Classification Report: \n",
            "              precision    recall  f1-score   support\n",
            "\n",
            "           0       0.87      1.00      0.93       313\n",
            "           1       0.92      0.21      0.34        58\n",
            "\n",
            "    accuracy                           0.87       371\n",
            "   macro avg       0.90      0.60      0.63       371\n",
            "weighted avg       0.88      0.87      0.84       371\n",
            "\n",
            "Params:  {'alpha': 0.1, 'learning_rate': 'optimal', 'loss': 'squared_loss'}\n",
            "Accuracy:  0.8733153638814016  Variance:  0.1510410928720941\n",
            "\n",
            "\n",
            "Classification Report: \n",
            "              precision    recall  f1-score   support\n",
            "\n",
            "           0       0.87      0.99      0.93       313\n",
            "           1       0.87      0.22      0.36        58\n",
            "\n",
            "    accuracy                           0.87       371\n",
            "   macro avg       0.87      0.61      0.64       371\n",
            "weighted avg       0.87      0.87      0.84       371\n",
            "\n",
            "Params:  {'alpha': 0.1, 'learning_rate': 'optimal', 'loss': 'modified_huber'}\n",
            "Accuracy:  0.8733153638814016  Variance:  0.1413462597774593\n",
            "\n",
            "\n",
            "Classification Report: \n",
            "              precision    recall  f1-score   support\n",
            "\n",
            "           0       0.89      0.95      0.92       313\n",
            "           1       0.56      0.38      0.45        58\n",
            "\n",
            "    accuracy                           0.86       371\n",
            "   macro avg       0.73      0.66      0.69       371\n",
            "weighted avg       0.84      0.86      0.85       371\n",
            "\n",
            "Params:  {'alpha': 0.1, 'learning_rate': 'optimal', 'loss': 'perceptron'}\n",
            "Accuracy:  0.8571428571428571  Variance:  -0.06323675223091363\n",
            "\n",
            "\n",
            "Classification Report: \n",
            "              precision    recall  f1-score   support\n",
            "\n",
            "           0       0.88      1.00      0.93       313\n",
            "           1       0.94      0.26      0.41        58\n",
            "\n",
            "    accuracy                           0.88       371\n",
            "   macro avg       0.91      0.63      0.67       371\n",
            "weighted avg       0.89      0.88      0.85       371\n",
            "\n",
            "Params:  {'alpha': 0.01, 'learning_rate': 'optimal', 'loss': 'hinge'}\n",
            "Accuracy:  0.8814016172506739  Variance:  0.19797289853475797\n",
            "\n",
            "\n",
            "Classification Report: \n",
            "              precision    recall  f1-score   support\n",
            "\n",
            "           0       0.88      0.98      0.93       313\n",
            "           1       0.74      0.24      0.36        58\n",
            "\n",
            "    accuracy                           0.87       371\n",
            "   macro avg       0.81      0.61      0.64       371\n",
            "weighted avg       0.85      0.87      0.84       371\n",
            "\n",
            "Params:  {'alpha': 0.01, 'learning_rate': 'optimal', 'loss': 'log'}\n",
            "Accuracy:  0.8679245283018868  Variance:  0.0824060813043953\n",
            "\n",
            "\n",
            "Classification Report: \n",
            "              precision    recall  f1-score   support\n",
            "\n",
            "           0       0.88      0.99      0.93       313\n",
            "           1       0.78      0.24      0.37        58\n",
            "\n",
            "    accuracy                           0.87       371\n",
            "   macro avg       0.83      0.61      0.65       371\n",
            "weighted avg       0.86      0.87      0.84       371\n",
            "\n",
            "Params:  {'alpha': 0.01, 'learning_rate': 'optimal', 'loss': 'squared_epsilon_insensitive'}\n",
            "Accuracy:  0.8706199460916442  Variance:  0.10719400683045022\n",
            "\n",
            "\n",
            "Classification Report: \n",
            "              precision    recall  f1-score   support\n",
            "\n",
            "           0       0.88      0.98      0.92       313\n",
            "           1       0.68      0.26      0.38        58\n",
            "\n",
            "    accuracy                           0.87       371\n",
            "   macro avg       0.78      0.62      0.65       371\n",
            "weighted avg       0.85      0.87      0.84       371\n",
            "\n",
            "Params:  {'alpha': 0.01, 'learning_rate': 'optimal', 'loss': 'squared_loss'}\n",
            "Accuracy:  0.8652291105121294  Variance:  0.04957585105210949\n",
            "\n",
            "\n",
            "Classification Report: \n",
            "              precision    recall  f1-score   support\n",
            "\n",
            "           0       0.88      1.00      0.93       313\n",
            "           1       1.00      0.24      0.39        58\n",
            "\n",
            "    accuracy                           0.88       371\n",
            "   macro avg       0.94      0.62      0.66       371\n",
            "weighted avg       0.90      0.88      0.85       371\n",
            "\n",
            "Params:  {'alpha': 0.01, 'learning_rate': 'optimal', 'loss': 'modified_huber'}\n",
            "Accuracy:  0.8814016172506739  Variance:  0.2074473945136055\n",
            "\n",
            "\n",
            "Classification Report: \n",
            "              precision    recall  f1-score   support\n",
            "\n",
            "           0       0.91      0.87      0.89       313\n",
            "           1       0.44      0.55      0.49        58\n",
            "\n",
            "    accuracy                           0.82       371\n",
            "   macro avg       0.68      0.71      0.69       371\n",
            "weighted avg       0.84      0.82      0.83       371\n",
            "\n",
            "Params:  {'alpha': 0.01, 'learning_rate': 'optimal', 'loss': 'perceptron'}\n",
            "Accuracy:  0.8221024258760108  Variance:  -0.3379971356174951\n",
            "\n",
            "\n",
            "Classification Report: \n",
            "              precision    recall  f1-score   support\n",
            "\n",
            "           0       0.88      1.00      0.94       313\n",
            "           1       1.00      0.29      0.45        58\n",
            "\n",
            "    accuracy                           0.89       371\n",
            "   macro avg       0.94      0.65      0.70       371\n",
            "weighted avg       0.90      0.89      0.86       371\n",
            "\n",
            "Params:  {'alpha': 0.001, 'learning_rate': 'optimal', 'loss': 'hinge'}\n",
            "Accuracy:  0.889487870619946  Variance:  0.25470970584995034\n",
            "\n",
            "\n",
            "Classification Report: \n",
            "              precision    recall  f1-score   support\n",
            "\n",
            "           0       0.89      0.96      0.93       313\n",
            "           1       0.66      0.36      0.47        58\n",
            "\n",
            "    accuracy                           0.87       371\n",
            "   macro avg       0.77      0.66      0.70       371\n",
            "weighted avg       0.85      0.87      0.85       371\n",
            "\n",
            "Params:  {'alpha': 0.001, 'learning_rate': 'optimal', 'loss': 'log'}\n",
            "Accuracy:  0.8706199460916442  Variance:  0.05629613308361747\n",
            "\n",
            "\n",
            "Classification Report: \n",
            "              precision    recall  f1-score   support\n",
            "\n",
            "           0       0.89      0.95      0.92       313\n",
            "           1       0.55      0.36      0.44        58\n",
            "\n",
            "    accuracy                           0.85       371\n",
            "   macro avg       0.72      0.65      0.68       371\n",
            "weighted avg       0.84      0.85      0.84       371\n",
            "\n",
            "Params:  {'alpha': 0.001, 'learning_rate': 'optimal', 'loss': 'squared_epsilon_insensitive'}\n",
            "Accuracy:  0.8544474393530997  Variance:  -0.08152473284124762\n",
            "\n",
            "\n",
            "Classification Report: \n",
            "              precision    recall  f1-score   support\n",
            "\n",
            "           0       0.88      1.00      0.94       313\n",
            "           1       0.94      0.28      0.43        58\n",
            "\n",
            "    accuracy                           0.88       371\n",
            "   macro avg       0.91      0.64      0.68       371\n",
            "weighted avg       0.89      0.88      0.86       371\n",
            "\n",
            "Params:  {'alpha': 0.001, 'learning_rate': 'optimal', 'loss': 'squared_loss'}\n",
            "Accuracy:  0.8840970350404312  Variance:  0.21383717087143317\n",
            "\n",
            "\n",
            "Classification Report: \n",
            "              precision    recall  f1-score   support\n",
            "\n",
            "           0       0.88      0.97      0.93       313\n",
            "           1       0.69      0.31      0.43        58\n",
            "\n",
            "    accuracy                           0.87       371\n",
            "   macro avg       0.79      0.64      0.68       371\n",
            "weighted avg       0.85      0.87      0.85       371\n",
            "\n",
            "Params:  {'alpha': 0.001, 'learning_rate': 'optimal', 'loss': 'modified_huber'}\n",
            "Accuracy:  0.8706199460916442  Variance:  0.07546546215709982\n",
            "\n",
            "\n",
            "Classification Report: \n",
            "              precision    recall  f1-score   support\n",
            "\n",
            "           0       0.91      0.82      0.86       313\n",
            "           1       0.36      0.55      0.44        58\n",
            "\n",
            "    accuracy                           0.78       371\n",
            "   macro avg       0.63      0.68      0.65       371\n",
            "weighted avg       0.82      0.78      0.79       371\n",
            "\n",
            "Params:  {'alpha': 0.001, 'learning_rate': 'optimal', 'loss': 'perceptron'}\n",
            "Accuracy:  0.7762803234501348  Variance:  -0.6432742095405979\n",
            "\n",
            "\n",
            "Classification Report: \n",
            "              precision    recall  f1-score   support\n",
            "\n",
            "           0       0.86      1.00      0.93       313\n",
            "           1       0.90      0.16      0.26        58\n",
            "\n",
            "    accuracy                           0.87       371\n",
            "   macro avg       0.88      0.58      0.60       371\n",
            "weighted avg       0.87      0.87      0.82       371\n",
            "\n",
            "Params:  {'alpha': 0.0001, 'learning_rate': 'optimal', 'loss': 'hinge'}\n",
            "Accuracy:  0.8652291105121294  Variance:  0.10510080423047252\n",
            "\n",
            "\n",
            "Classification Report: \n",
            "              precision    recall  f1-score   support\n",
            "\n",
            "           0       0.88      0.97      0.93       313\n",
            "           1       0.69      0.31      0.43        58\n",
            "\n",
            "    accuracy                           0.87       371\n",
            "   macro avg       0.79      0.64      0.68       371\n",
            "weighted avg       0.85      0.87      0.85       371\n",
            "\n",
            "Params:  {'alpha': 0.0001, 'learning_rate': 'optimal', 'loss': 'log'}\n",
            "Accuracy:  0.8706199460916442  Variance:  0.07546546215709982\n",
            "\n",
            "\n",
            "Classification Report: \n",
            "              precision    recall  f1-score   support\n",
            "\n",
            "           0       0.83      0.70      0.76       313\n",
            "           1       0.11      0.21      0.15        58\n",
            "\n",
            "    accuracy                           0.62       371\n",
            "   macro avg       0.47      0.45      0.45       371\n",
            "weighted avg       0.71      0.62      0.66       371\n",
            "\n",
            "Params:  {'alpha': 0.0001, 'learning_rate': 'optimal', 'loss': 'squared_epsilon_insensitive'}\n",
            "Accuracy:  0.6199460916442049  Variance:  -1.749256362234219\n",
            "\n",
            "\n",
            "Classification Report: \n",
            "              precision    recall  f1-score   support\n",
            "\n",
            "           0       0.83      0.66      0.74       313\n",
            "           1       0.14      0.29      0.19        58\n",
            "\n",
            "    accuracy                           0.60       371\n",
            "   macro avg       0.49      0.48      0.46       371\n",
            "weighted avg       0.73      0.60      0.65       371\n",
            "\n",
            "Params:  {'alpha': 0.0001, 'learning_rate': 'optimal', 'loss': 'squared_loss'}\n",
            "Accuracy:  0.601078167115903  Variance:  -1.7846204693180567\n",
            "\n",
            "\n",
            "Classification Report: \n",
            "              precision    recall  f1-score   support\n",
            "\n",
            "           0       0.88      0.88      0.88       313\n",
            "           1       0.36      0.38      0.37        58\n",
            "\n",
            "    accuracy                           0.80       371\n",
            "   macro avg       0.62      0.63      0.62       371\n",
            "weighted avg       0.80      0.80      0.80       371\n",
            "\n",
            "Params:  {'alpha': 0.0001, 'learning_rate': 'optimal', 'loss': 'modified_huber'}\n",
            "Accuracy:  0.7978436657681941  Variance:  -0.5322243031838723\n",
            "\n",
            "\n",
            "Classification Report: \n",
            "              precision    recall  f1-score   support\n",
            "\n",
            "           0       0.88      0.94      0.91       313\n",
            "           1       0.50      0.31      0.38        58\n",
            "\n",
            "    accuracy                           0.84       371\n",
            "   macro avg       0.69      0.63      0.65       371\n",
            "weighted avg       0.82      0.84      0.83       371\n",
            "\n",
            "Params:  {'alpha': 0.0001, 'learning_rate': 'optimal', 'loss': 'perceptron'}\n",
            "Accuracy:  0.8436657681940701  Variance:  -0.15864272336675156\n",
            "\n",
            "\n",
            "\n",
            "El mejor modelo es:  SGDClassifier(alpha=0.001, random_state=0) Con una accuracy de:  0.889487870619946 Sus parámetros son:  {'alpha': 0.001, 'learning_rate': 'optimal', 'loss': 'hinge'} Y su varianza es:  0.25470970584995034\n"
          ]
        }
      ]
    },
    {
      "cell_type": "markdown",
      "metadata": {
        "id": "S9DIsXlsYyDf"
      },
      "source": [
        "De acuerdo con esto el \"mejor modelo\" es el GDClassifier con parametros: {'alpha': 0.001, 'learning_rate': 'optimal', 'loss': 'hinge'} . Logra una accuracy de 0.889487870619946 y una varianza de:  0.25470970584995034. Veamos si mejora la matriz de confusion. "
      ]
    },
    {
      "cell_type": "code",
      "metadata": {
        "colab": {
          "base_uri": "https://localhost:8080/"
        },
        "id": "M8hMq9Dwb3Vh",
        "outputId": "6787a7a6-669a-4180-f237-7684884a4d18"
      },
      "source": [
        "best_model"
      ],
      "execution_count": 29,
      "outputs": [
        {
          "output_type": "execute_result",
          "data": {
            "text/plain": [
              "SGDClassifier(alpha=0.001, random_state=0)"
            ]
          },
          "metadata": {},
          "execution_count": 29
        }
      ]
    },
    {
      "cell_type": "code",
      "metadata": {
        "colab": {
          "base_uri": "https://localhost:8080/",
          "height": 717
        },
        "id": "X69fGmN5bHTN",
        "outputId": "e8cec52e-0d4b-427c-df00-564e207306aa"
      },
      "source": [
        "#si entrenamos con este best model que nos queda?\n",
        "\n",
        "y_predict_train = best_model.predict(X_train)\n",
        "y_predict_test = best_model.predict(X_test)\n",
        "\n",
        "\n",
        "print('Reporte de clasificacion del conjunto de test: ')\n",
        "print('')\n",
        "print(classification_report(y_test, y_predict_test, target_names=names))\n",
        "print('Reporte de clasificacion del conjunto de training: ')\n",
        "print('')\n",
        "print(classification_report(y_train, y_predict_train, target_names=names))\n",
        "\n",
        "print(confusion_matrix(y_test, y_predict_test))\n",
        "#print(confusion_matrix(y_train, y_predict_train))\n",
        "\n",
        "sn.heatmap(confusion_matrix(y_test, y_predict_test),annot=True)\n",
        "plt.title('Matriz de Confusion de Clasificador SGD con ParameterGrid',fontsize=15)"
      ],
      "execution_count": 30,
      "outputs": [
        {
          "output_type": "stream",
          "name": "stdout",
          "text": [
            "Reporte de clasificacion del conjunto de test: \n",
            "\n",
            "                 precision    recall  f1-score   support\n",
            "\n",
            "Cliente Pagador       0.88      1.00      0.94       313\n",
            " Cliente Deudor       1.00      0.29      0.45        58\n",
            "\n",
            "       accuracy                           0.89       371\n",
            "      macro avg       0.94      0.65      0.70       371\n",
            "   weighted avg       0.90      0.89      0.86       371\n",
            "\n",
            "Reporte de clasificacion del conjunto de training: \n",
            "\n",
            "                 precision    recall  f1-score   support\n",
            "\n",
            "Cliente Pagador       0.87      1.00      0.93      1232\n",
            " Cliente Deudor       0.92      0.27      0.42       251\n",
            "\n",
            "       accuracy                           0.87      1483\n",
            "      macro avg       0.90      0.64      0.68      1483\n",
            "   weighted avg       0.88      0.87      0.84      1483\n",
            "\n",
            "[[313   0]\n",
            " [ 41  17]]\n"
          ]
        },
        {
          "output_type": "execute_result",
          "data": {
            "text/plain": [
              "Text(0.5, 1.0, 'Matriz de Confusion de Clasificador SGD con ParameterGrid')"
            ]
          },
          "metadata": {},
          "execution_count": 30
        },
        {
          "output_type": "display_data",
          "data": {
            "image/png": "[encoded data removed]",
            "text/plain": [
              "<Figure size 432x288 with 2 Axes>"
            ]
          },
          "metadata": {
            "needs_background": "light"
          }
        }
      ]
    },
    {
      "cell_type": "markdown",
      "metadata": {
        "id": "NYGIjQqZfSLD"
      },
      "source": [
        "Bueno, acá observamos mejoras en la matriz de confusion, lo cual ya se intuia de los valores de las metricas. Por un lado, vemos que los True Positives son 313, es decir, el modelo predijo correctamente los 313 clientes pagadores. Tmb mejoró el valor de los TN, el modelo predijo 17 deudores (antes habiamos predicho solo 9). No hubo FP y si bien disminuyó el numero de FN, ahora son 41 y antes 49, sigue siendo elevado el numero de clientes morosos que no estamos prediciendo. "
      ]
    },
    {
      "cell_type": "markdown",
      "metadata": {
        "id": "81pjMe_UZLA_"
      },
      "source": [
        "Intentaremos mejorar aun mas el modelo. Para ello, podemos tambien emplear GridSearchCV para hacer validacion cruzada sobre una grilla de parametros (la grilla ya empleada anteriormente). Emplearemos como scoring la accuracy para evaluar la performance de cada modelo y cv=5. \n"
      ]
    },
    {
      "cell_type": "code",
      "metadata": {
        "colab": {
          "base_uri": "https://localhost:8080/"
        },
        "id": "LDExN7fWhNXm",
        "outputId": "b9e4e7e6-6ab8-4700-a0e2-e5b967bb9326"
      },
      "source": [
        "model = SGDClassifier(random_state=0)\n",
        "\n",
        "best_model_cv = GridSearchCV(model, param_grid, scoring='accuracy', cv=5)\n",
        "#xq usar accuracy como scoring si sabemos que no estan balanceadas las clases?\n",
        "# y xq si usamos \"recall_weighted\", la cosa da fea igual?\n",
        "best_model_cv.fit(X_train, y_train)\n",
        "\n",
        "y_predict_train = best_model_cv.predict(X_train)\n",
        "y_predict_test = best_model_cv.predict(X_test)\n",
        "\n",
        "print('Reporte de clasificacion del conjunto de test: ')\n",
        "print('')\n",
        "print(classification_report(y_test, y_predict_test, target_names=names))\n",
        "print('Reporte de clasificacion del conjunto de training: ')\n",
        "print('')\n",
        "print(classification_report(y_train, y_predict_train, target_names=names))\n"
      ],
      "execution_count": 31,
      "outputs": [
        {
          "output_type": "stream",
          "name": "stdout",
          "text": [
            "Reporte de clasificacion del conjunto de test: \n",
            "\n",
            "                 precision    recall  f1-score   support\n",
            "\n",
            "Cliente Pagador       0.88      0.98      0.93       313\n",
            " Cliente Deudor       0.74      0.24      0.36        58\n",
            "\n",
            "       accuracy                           0.87       371\n",
            "      macro avg       0.81      0.61      0.64       371\n",
            "   weighted avg       0.85      0.87      0.84       371\n",
            "\n",
            "Reporte de clasificacion del conjunto de training: \n",
            "\n",
            "                 precision    recall  f1-score   support\n",
            "\n",
            "Cliente Pagador       0.87      0.99      0.93      1232\n",
            " Cliente Deudor       0.85      0.29      0.44       251\n",
            "\n",
            "       accuracy                           0.87      1483\n",
            "      macro avg       0.86      0.64      0.68      1483\n",
            "   weighted avg       0.87      0.87      0.84      1483\n",
            "\n"
          ]
        }
      ]
    },
    {
      "cell_type": "code",
      "metadata": {
        "colab": {
          "base_uri": "https://localhost:8080/",
          "height": 335
        },
        "id": "nLTqN7lZAEMX",
        "outputId": "253036bc-0fbd-4178-a0ae-387d1c927f48"
      },
      "source": [
        "print(confusion_matrix(y_test, y_predict_test))\n",
        "#print(confusion_matrix(y_train, y_predict_train))\n",
        "\n",
        "sn.heatmap(confusion_matrix(y_test, y_predict_test),annot=True)\n",
        "plt.title('Matriz de Confusion de Clasificador SGD con Cross-Validation',fontsize=15)"
      ],
      "execution_count": 32,
      "outputs": [
        {
          "output_type": "stream",
          "name": "stdout",
          "text": [
            "[[308   5]\n",
            " [ 44  14]]\n"
          ]
        },
        {
          "output_type": "execute_result",
          "data": {
            "text/plain": [
              "Text(0.5, 1.0, 'Matriz de Confusion de Clasificador SGD con Cross-Validation')"
            ]
          },
          "metadata": {},
          "execution_count": 32
        },
        {
          "output_type": "display_data",
          "data": {
            "image/png": "[encoded data removed]",
            "text/plain": [
              "<Figure size 432x288 with 2 Axes>"
            ]
          },
          "metadata": {
            "needs_background": "light"
          }
        }
      ]
    },
    {
      "cell_type": "markdown",
      "metadata": {
        "id": "uuGy9pcnispL"
      },
      "source": [
        "Bueno, vemos que la situacion empeoró aunque no sabemos si eso debia ocurrir. TN que antes se predecian bien pasaron a ser FP, el numero de FN (lo mas grave: predecir que un cliente va a pagar cuando no) aumentó y disminuyo el numero de TP.\n",
        "Qué pasa entonces si en vez de usar la accuracy como scoring, usamos recall????\n"
      ]
    },
    {
      "cell_type": "code",
      "metadata": {
        "colab": {
          "base_uri": "https://localhost:8080/",
          "height": 717
        },
        "id": "OPAd1n5qgrnn",
        "outputId": "1eb7c372-2198-45c9-cd86-fa82b3e5b226"
      },
      "source": [
        "model = SGDClassifier(random_state=0)\n",
        "\n",
        "best_model_cv = GridSearchCV(model, param_grid, scoring='recall', cv=5)\n",
        "#xq usar accuracy como scoring si sabemos que no estan balanceadas las clases?\n",
        "# y xq si usamos \"recall_weighted\", la cosa da fea igual?\n",
        "best_model_cv.fit(X_train, y_train)\n",
        "\n",
        "y_predict_train = best_model_cv.predict(X_train)\n",
        "y_predict_test = best_model_cv.predict(X_test)\n",
        "\n",
        "print('Reporte de clasificacion del conjunto de test: ')\n",
        "print('')\n",
        "print(classification_report(y_test, y_predict_test, target_names=names))\n",
        "print('Reporte de clasificacion del conjunto de training: ')\n",
        "print('')\n",
        "print(classification_report(y_train, y_predict_train, target_names=names))\n",
        "\n",
        "print(confusion_matrix(y_test, y_predict_test))\n",
        "#print(confusion_matrix(y_train, y_predict_train))\n",
        "\n",
        "sn.heatmap(confusion_matrix(y_test, y_predict_test),annot=True)\n",
        "plt.title('Matriz de Confusion de Clasificador SGD con CV and recall',fontsize=15)\n"
      ],
      "execution_count": 33,
      "outputs": [
        {
          "output_type": "stream",
          "name": "stdout",
          "text": [
            "Reporte de clasificacion del conjunto de test: \n",
            "\n",
            "                 precision    recall  f1-score   support\n",
            "\n",
            "Cliente Pagador       0.83      0.66      0.74       313\n",
            " Cliente Deudor       0.14      0.29      0.19        58\n",
            "\n",
            "       accuracy                           0.60       371\n",
            "      macro avg       0.49      0.48      0.46       371\n",
            "   weighted avg       0.73      0.60      0.65       371\n",
            "\n",
            "Reporte de clasificacion del conjunto de training: \n",
            "\n",
            "                 precision    recall  f1-score   support\n",
            "\n",
            "Cliente Pagador       0.84      0.64      0.73      1232\n",
            " Cliente Deudor       0.18      0.38      0.24       251\n",
            "\n",
            "       accuracy                           0.60      1483\n",
            "      macro avg       0.51      0.51      0.49      1483\n",
            "   weighted avg       0.72      0.60      0.64      1483\n",
            "\n",
            "[[206 107]\n",
            " [ 41  17]]\n"
          ]
        },
        {
          "output_type": "execute_result",
          "data": {
            "text/plain": [
              "Text(0.5, 1.0, 'Matriz de Confusion de Clasificador SGD con CV and recall')"
            ]
          },
          "metadata": {},
          "execution_count": 33
        },
        {
          "output_type": "display_data",
          "data": {
            "image/png": "[encoded data removed]",
            "text/plain": [
              "<Figure size 432x288 with 2 Axes>"
            ]
          },
          "metadata": {
            "needs_background": "light"
          }
        }
      ]
    },
    {
      "cell_type": "markdown",
      "metadata": {
        "id": "kA57AqlSu8U7"
      },
      "source": [
        "Mejora la recall relacionada con la clase cliente deudor pero empeora considerablemente la situacion con la clase cliente pagador. "
      ]
    },
    {
      "cell_type": "markdown",
      "metadata": {
        "id": "PKPsI1TwVFbU"
      },
      "source": [
        "### Auto ML"
      ]
    },
    {
      "cell_type": "code",
      "metadata": {
        "id": "mHQcfa1zVcVu"
      },
      "source": [
        "from autosklearn.experimental.askl2 import AutoSklearn2Classifier\n",
        "automl = autosklearn.classification.AutoSklearnClassifier(time_left_for_this_task=100, \n",
        "                              per_run_time_limit=10, \n",
        "                              ensemble_size=1, \n",
        "                              initial_configurations_via_metalearning=0)\n",
        "automl.fit(X_train, y_train)\n",
        "predictions = automl.predict(X_test)"
      ],
      "execution_count": 34,
      "outputs": []
    },
    {
      "cell_type": "code",
      "metadata": {
        "colab": {
          "base_uri": "https://localhost:8080/"
        },
        "id": "PilVDc8wckuP",
        "outputId": "f724a3f6-479c-4c7e-bb86-220ea09887aa"
      },
      "source": [
        "print(automl.sprint_statistics())"
      ],
      "execution_count": 35,
      "outputs": [
        {
          "output_type": "stream",
          "name": "stdout",
          "text": [
            "auto-sklearn results:\n",
            "  Dataset name: 943a1f66-5610-11ec-8731-0242ac1c0002\n",
            "  Metric: accuracy\n",
            "  Best validation score: 0.902041\n",
            "  Number of target algorithm runs: 18\n",
            "  Number of successful target algorithm runs: 17\n",
            "  Number of crashed target algorithm runs: 0\n",
            "  Number of target algorithms that exceeded the time limit: 1\n",
            "  Number of target algorithms that exceeded the memory limit: 0\n",
            "\n"
          ]
        }
      ]
    },
    {
      "cell_type": "code",
      "metadata": {
        "colab": {
          "base_uri": "https://localhost:8080/"
        },
        "id": "Zsf41lY_cluE",
        "outputId": "13fa0914-f9cc-4624-d64a-7e5455503e44"
      },
      "source": [
        "# evaluate best model\n",
        "y_hat = automl.predict(X_test)\n",
        "acc = accuracy_score(y_test, y_hat)\n",
        "print(\"Accuracy: %.3f\" % acc)"
      ],
      "execution_count": 36,
      "outputs": [
        {
          "output_type": "stream",
          "name": "stdout",
          "text": [
            "Accuracy: 0.911\n"
          ]
        }
      ]
    },
    {
      "cell_type": "code",
      "metadata": {
        "id": "YmpdqyPTVSRB"
      },
      "source": [
        "y_predict_test = automl.predict(X_test)\n",
        "y_predict_train = automl.predict(X_train)"
      ],
      "execution_count": 37,
      "outputs": []
    },
    {
      "cell_type": "code",
      "metadata": {
        "colab": {
          "base_uri": "https://localhost:8080/"
        },
        "id": "7oVGcGytVXfP",
        "outputId": "542ce8f8-270b-4c00-96ab-93abb6913f9a"
      },
      "source": [
        "names = ['Cliente Pagador', 'Cliente Deudor']\n",
        "\n",
        "print('Reporte de clasificacion del conjunto de test: ')\n",
        "print('')\n",
        "print(classification_report(y_test, y_predict_test, target_names=names))\n",
        "print('Reporte de clasificacion del conjunto de training: ')\n",
        "print('')\n",
        "print(classification_report(y_train, y_predict_train, target_names=names))"
      ],
      "execution_count": 38,
      "outputs": [
        {
          "output_type": "stream",
          "name": "stdout",
          "text": [
            "Reporte de clasificacion del conjunto de test: \n",
            "\n",
            "                 precision    recall  f1-score   support\n",
            "\n",
            "Cliente Pagador       0.91      0.99      0.95       313\n",
            " Cliente Deudor       0.90      0.48      0.63        58\n",
            "\n",
            "       accuracy                           0.91       371\n",
            "      macro avg       0.91      0.74      0.79       371\n",
            "   weighted avg       0.91      0.91      0.90       371\n",
            "\n",
            "Reporte de clasificacion del conjunto de training: \n",
            "\n",
            "                 precision    recall  f1-score   support\n",
            "\n",
            "Cliente Pagador       0.96      1.00      0.98      1232\n",
            " Cliente Deudor       1.00      0.81      0.89       251\n",
            "\n",
            "       accuracy                           0.97      1483\n",
            "      macro avg       0.98      0.91      0.94      1483\n",
            "   weighted avg       0.97      0.97      0.97      1483\n",
            "\n"
          ]
        }
      ]
    },
    {
      "cell_type": "code",
      "metadata": {
        "colab": {
          "base_uri": "https://localhost:8080/",
          "height": 335
        },
        "id": "UmdpRHsZVW-Y",
        "outputId": "7fc50219-7b63-479c-e9f1-ff353f94b70f"
      },
      "source": [
        "print(confusion_matrix(y_test, y_predict_test))\n",
        "sn.heatmap(confusion_matrix(y_test, y_predict_test),annot=True)\n",
        "plt.title('Matriz de Confusion de Auto ML',fontsize=15)"
      ],
      "execution_count": 40,
      "outputs": [
        {
          "output_type": "stream",
          "name": "stdout",
          "text": [
            "[[310   3]\n",
            " [ 30  28]]\n"
          ]
        },
        {
          "output_type": "execute_result",
          "data": {
            "text/plain": [
              "Text(0.5, 1.0, 'Matriz de Confusion de Auto ML')"
            ]
          },
          "metadata": {},
          "execution_count": 40
        },
        {
          "output_type": "display_data",
          "data": {
            "image/png": "[encoded data removed]",
            "text/plain": [
              "<Figure size 432x288 with 2 Axes>"
            ]
          },
          "metadata": {
            "needs_background": "light"
          }
        }
      ]
    },
    {
      "cell_type": "markdown",
      "metadata": {
        "id": "rj0-SBbOds3n"
      },
      "source": [
        "Podemos comparar AUTO ML con SGDClassifier con ajuste de hiperparámetros y observamos una mejora en la predicción de los datos. "
      ]
    },
    {
      "cell_type": "markdown",
      "metadata": {
        "id": "at3Z2gQ1eLM6"
      },
      "source": [
        "Para SGDClassifier \n",
        "*   Precision Pagador 0.87 y Deudor 0.92\n",
        "*   Recall    Pagador 1.00 y Deudor 0.27\n",
        "*   f1        Pagador 0.93 y Deudor 0.42\n",
        "\n",
        "\n",
        "Para AutoMl\n",
        "* Precision Pagador 0.96 y Deudor 1.00\n",
        "* Recall    Pagador 1.00 y Deudor 0.81\n",
        "* f1        Pagador 0.98 y Deudor 0.89"
      ]
    }
  ]
}